{
 "cells": [
  {
   "cell_type": "markdown",
   "metadata": {},
   "source": [
    "# OHLCVS Prediction using Prophet"
   ]
  },
  {
   "cell_type": "markdown",
   "metadata": {},
   "source": [
    "## Import libraries and setup constant variables"
   ]
  },
  {
   "cell_type": "code",
   "execution_count": 3,
   "metadata": {},
   "outputs": [
    {
     "name": "stderr",
     "output_type": "stream",
     "text": [
      "Importing plotly failed. Interactive plots will not work.\n"
     ]
    }
   ],
   "source": [
    "import pandas as pd \n",
    "import psycopg2\n",
    "from prophet import Prophet\n",
    "from matplotlib import pyplot"
   ]
  },
  {
   "cell_type": "code",
   "execution_count": 4,
   "metadata": {},
   "outputs": [],
   "source": [
    "CONNECTION = \"dbname=postgres user=postgres password=horus123 host=localhost port=15432\"\n",
    "SELECT_QUERY = \"select time_bucket('5 min', time) as time_5min, last(closing_price, time) as closing_price\\\n",
    "    from ohlcvs where exchange='bittrex' and symbol='BTC-USD' and time < '2020-01-01'\\\n",
    "    group by time_5min order by time_5min asc limit 70000;\"\n",
    "SELECT_QUERY_1MIN = \"select time, closing_price from ohlcvs where exchange='bittrex' and symbol='BTC-USD' and time < '2020-01-01' order by time asc limit 70000;\"\n",
    "COLUMN_NAMES = [\"ds\", \"y\"]\n",
    "\n",
    "def psql_to_df(connection_string, query, column_names):\n",
    "    conn = psycopg2.connect(connection_string)\n",
    "    with conn:\n",
    "        cur = conn.cursor()\n",
    "        cur.execute(query)\n",
    "        rows = cur.fetchall()\n",
    "        df = pd.DataFrame(rows, columns=column_names)\n",
    "        return df"
   ]
  },
  {
   "cell_type": "markdown",
   "metadata": {},
   "source": [
    "## Query the dataset and format the datetime column"
   ]
  },
  {
   "cell_type": "code",
   "execution_count": 28,
   "metadata": {
    "tags": []
   },
   "outputs": [],
   "source": [
    "df = psql_to_df(CONNECTION, SELECT_QUERY, COLUMN_NAMES)"
   ]
  },
  {
   "cell_type": "code",
   "execution_count": 29,
   "metadata": {},
   "outputs": [],
   "source": [
    "df['ds'] = df['ds'].dt.tz_localize(None)"
   ]
  },
  {
   "cell_type": "code",
   "execution_count": 30,
   "metadata": {},
   "outputs": [
    {
     "data": {
      "text/plain": [
       "(60000, 2)"
      ]
     },
     "execution_count": 30,
     "metadata": {},
     "output_type": "execute_result"
    }
   ],
   "source": [
    "df.shape"
   ]
  },
  {
   "cell_type": "code",
   "execution_count": 31,
   "metadata": {},
   "outputs": [],
   "source": [
    "# Number of rows in test set and number of periods to predict\n",
    "TEST_SET_ROW_IDX = 50000"
   ]
  },
  {
   "cell_type": "code",
   "execution_count": 32,
   "metadata": {},
   "outputs": [
    {
     "data": {
      "text/html": [
       "<div>\n",
       "<style scoped>\n",
       "    .dataframe tbody tr th:only-of-type {\n",
       "        vertical-align: middle;\n",
       "    }\n",
       "\n",
       "    .dataframe tbody tr th {\n",
       "        vertical-align: top;\n",
       "    }\n",
       "\n",
       "    .dataframe thead th {\n",
       "        text-align: right;\n",
       "    }\n",
       "</style>\n",
       "<table border=\"1\" class=\"dataframe\">\n",
       "  <thead>\n",
       "    <tr style=\"text-align: right;\">\n",
       "      <th></th>\n",
       "      <th>ds</th>\n",
       "      <th>y</th>\n",
       "    </tr>\n",
       "  </thead>\n",
       "  <tbody>\n",
       "    <tr>\n",
       "      <th>49990</th>\n",
       "      <td>2019-06-23 13:50:00</td>\n",
       "      <td>10602.530</td>\n",
       "    </tr>\n",
       "    <tr>\n",
       "      <th>49991</th>\n",
       "      <td>2019-06-23 13:55:00</td>\n",
       "      <td>10602.535</td>\n",
       "    </tr>\n",
       "    <tr>\n",
       "      <th>49992</th>\n",
       "      <td>2019-06-23 14:00:00</td>\n",
       "      <td>10645.844</td>\n",
       "    </tr>\n",
       "    <tr>\n",
       "      <th>49993</th>\n",
       "      <td>2019-06-23 14:05:00</td>\n",
       "      <td>10649.055</td>\n",
       "    </tr>\n",
       "    <tr>\n",
       "      <th>49994</th>\n",
       "      <td>2019-06-23 14:10:00</td>\n",
       "      <td>10669.663</td>\n",
       "    </tr>\n",
       "    <tr>\n",
       "      <th>49995</th>\n",
       "      <td>2019-06-23 14:15:00</td>\n",
       "      <td>10661.179</td>\n",
       "    </tr>\n",
       "    <tr>\n",
       "      <th>49996</th>\n",
       "      <td>2019-06-23 14:20:00</td>\n",
       "      <td>10662.664</td>\n",
       "    </tr>\n",
       "    <tr>\n",
       "      <th>49997</th>\n",
       "      <td>2019-06-23 14:25:00</td>\n",
       "      <td>10641.390</td>\n",
       "    </tr>\n",
       "    <tr>\n",
       "      <th>49998</th>\n",
       "      <td>2019-06-23 14:30:00</td>\n",
       "      <td>10622.988</td>\n",
       "    </tr>\n",
       "    <tr>\n",
       "      <th>49999</th>\n",
       "      <td>2019-06-23 14:35:00</td>\n",
       "      <td>10672.337</td>\n",
       "    </tr>\n",
       "  </tbody>\n",
       "</table>\n",
       "</div>"
      ],
      "text/plain": [
       "                       ds          y\n",
       "49990 2019-06-23 13:50:00  10602.530\n",
       "49991 2019-06-23 13:55:00  10602.535\n",
       "49992 2019-06-23 14:00:00  10645.844\n",
       "49993 2019-06-23 14:05:00  10649.055\n",
       "49994 2019-06-23 14:10:00  10669.663\n",
       "49995 2019-06-23 14:15:00  10661.179\n",
       "49996 2019-06-23 14:20:00  10662.664\n",
       "49997 2019-06-23 14:25:00  10641.390\n",
       "49998 2019-06-23 14:30:00  10622.988\n",
       "49999 2019-06-23 14:35:00  10672.337"
      ]
     },
     "execution_count": 32,
     "metadata": {},
     "output_type": "execute_result"
    }
   ],
   "source": [
    "# The last 10 rows of the intended training set\n",
    "df.iloc[TEST_SET_ROW_IDX-10:TEST_SET_ROW_IDX]"
   ]
  },
  {
   "cell_type": "markdown",
   "metadata": {},
   "source": [
    "## Create a naive model, fit some training data in"
   ]
  },
  {
   "cell_type": "code",
   "execution_count": null,
   "metadata": {},
   "outputs": [
    {
     "name": "stderr",
     "output_type": "stream",
     "text": [
      "INFO:prophet:Disabling yearly seasonality. Run prophet with yearly_seasonality=True to override this.\n"
     ]
    }
   ],
   "source": [
    "model = Prophet()\n",
    "metrics = model.fit(df.iloc[:TEST_SET_ROW_IDX])"
   ]
  },
  {
   "cell_type": "code",
   "execution_count": null,
   "metadata": {},
   "outputs": [],
   "source": [
    "N_PRED_PERIODS = 1000\n",
    "future = model.make_future_dataframe(periods=N_PRED_PERIODS, freq=\"min\")"
   ]
  },
  {
   "cell_type": "code",
   "execution_count": null,
   "metadata": {},
   "outputs": [],
   "source": [
    "future.tail()"
   ]
  },
  {
   "cell_type": "code",
   "execution_count": null,
   "metadata": {},
   "outputs": [],
   "source": [
    "forecast = model.predict(future)"
   ]
  },
  {
   "cell_type": "markdown",
   "metadata": {},
   "source": [
    "## Plot some graphs"
   ]
  },
  {
   "cell_type": "code",
   "execution_count": null,
   "metadata": {},
   "outputs": [],
   "source": [
    "fig1 = model.plot(forecast)"
   ]
  },
  {
   "cell_type": "code",
   "execution_count": null,
   "metadata": {},
   "outputs": [],
   "source": [
    "fig2 = model.plot_components(forecast)"
   ]
  },
  {
   "cell_type": "markdown",
   "metadata": {},
   "source": [
    "## Compare true vs predicted values"
   ]
  },
  {
   "cell_type": "code",
   "execution_count": null,
   "metadata": {
    "tags": []
   },
   "outputs": [],
   "source": [
    "y_pred = forecast.iloc[TEST_SET_ROW_IDX:TEST_SET_ROW_IDX+N_PRED_PERIODS]['yhat']\n",
    "y_true = df.iloc[TEST_SET_ROW_IDX:TEST_SET_ROW_IDX+N_PRED_PERIODS]['y']\n",
    "pyplot.plot(y_true, label='Actual')\n",
    "pyplot.plot(y_pred, label='Predicted')\n",
    "pyplot.legend()\n",
    "pyplot.show()"
   ]
  }
 ],
 "metadata": {
  "kernelspec": {
   "display_name": "Python 3",
   "language": "python",
   "name": "python3"
  },
  "language_info": {
   "codemirror_mode": {
    "name": "ipython",
    "version": 3
   },
   "file_extension": ".py",
   "mimetype": "text/x-python",
   "name": "python",
   "nbconvert_exporter": "python",
   "pygments_lexer": "ipython3",
   "version": "3.8.5"
  },
  "metadata": {
   "interpreter": {
    "hash": "d47defed22da33e0314abd5582877298266e5691cc62839a5a7dae1d6cc5ac5c"
   }
  }
 },
 "nbformat": 4,
 "nbformat_minor": 4
}
