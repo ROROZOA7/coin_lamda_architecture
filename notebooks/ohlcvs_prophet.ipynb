{
 "cells": [
  {
   "cell_type": "code",
   "execution_count": 4,
   "metadata": {},
   "outputs": [],
   "source": [
    "import pandas as pd \n",
    "import psycopg2\n",
    "from prophet import Prophet"
   ]
  },
  {
   "cell_type": "code",
   "execution_count": 5,
   "metadata": {},
   "outputs": [],
   "source": [
    "CONNECTION = \"dbname=postgres user=postgres password=horus123 host=localhost port=15432\"\n",
    "SELECT_QUERY = \"select time_bucket('5 min', time) as time_5min, last(closing_price, time) as closing_price\\\n",
    "    from ohlcvs where exchange='bittrex' and symbol='BTC-USD' and time < '2020-01-01'\\\n",
    "    group by time_5min order by time_5min asc;\"\n",
    "COLUMN_NAMES = [\"ds\", \"y\"]\n",
    "\n",
    "def psql_to_df(connection_string, query, column_names):\n",
    "    conn = psycopg2.connect(connection_string)\n",
    "    with conn:\n",
    "        cur = conn.cursor()\n",
    "        cur.execute(query)\n",
    "        rows = cur.fetchall()\n",
    "        df = pd.DataFrame(rows, columns=column_names)\n",
    "        return df"
   ]
  },
  {
   "cell_type": "code",
   "execution_count": 6,
   "metadata": {},
   "outputs": [],
   "source": [
    "df = psql_to_df(CONNECTION, SELECT_QUERY, COLUMN_NAMES)"
   ]
  },
  {
   "cell_type": "code",
   "execution_count": 7,
   "metadata": {},
   "outputs": [],
   "source": [
    "df['ds'] = df['ds'].dt.tz_localize(None)"
   ]
  },
  {
   "cell_type": "code",
   "execution_count": 8,
   "metadata": {},
   "outputs": [
    {
     "data": {
      "text/html": [
       "<div>\n",
       "<style scoped>\n",
       "    .dataframe tbody tr th:only-of-type {\n",
       "        vertical-align: middle;\n",
       "    }\n",
       "\n",
       "    .dataframe tbody tr th {\n",
       "        vertical-align: top;\n",
       "    }\n",
       "\n",
       "    .dataframe thead th {\n",
       "        text-align: right;\n",
       "    }\n",
       "</style>\n",
       "<table border=\"1\" class=\"dataframe\">\n",
       "  <thead>\n",
       "    <tr style=\"text-align: right;\">\n",
       "      <th></th>\n",
       "      <th>ds</th>\n",
       "      <th>y</th>\n",
       "    </tr>\n",
       "  </thead>\n",
       "  <tbody>\n",
       "    <tr>\n",
       "      <th>0</th>\n",
       "      <td>2019-01-01 00:00:00</td>\n",
       "      <td>3687.901</td>\n",
       "    </tr>\n",
       "    <tr>\n",
       "      <th>1</th>\n",
       "      <td>2019-01-01 00:05:00</td>\n",
       "      <td>3683.788</td>\n",
       "    </tr>\n",
       "    <tr>\n",
       "      <th>2</th>\n",
       "      <td>2019-01-01 00:10:00</td>\n",
       "      <td>3685.137</td>\n",
       "    </tr>\n",
       "    <tr>\n",
       "      <th>3</th>\n",
       "      <td>2019-01-01 00:15:00</td>\n",
       "      <td>3688.504</td>\n",
       "    </tr>\n",
       "    <tr>\n",
       "      <th>4</th>\n",
       "      <td>2019-01-01 00:20:00</td>\n",
       "      <td>3685.581</td>\n",
       "    </tr>\n",
       "  </tbody>\n",
       "</table>\n",
       "</div>"
      ],
      "text/plain": [
       "                   ds         y\n",
       "0 2019-01-01 00:00:00  3687.901\n",
       "1 2019-01-01 00:05:00  3683.788\n",
       "2 2019-01-01 00:10:00  3685.137\n",
       "3 2019-01-01 00:15:00  3688.504\n",
       "4 2019-01-01 00:20:00  3685.581"
      ]
     },
     "execution_count": 8,
     "metadata": {},
     "output_type": "execute_result"
    }
   ],
   "source": [
    "df.head()"
   ]
  },
  {
   "cell_type": "code",
   "execution_count": 9,
   "metadata": {},
   "outputs": [
    {
     "data": {
      "text/plain": [
       "(103680, 2)"
      ]
     },
     "execution_count": 9,
     "metadata": {},
     "output_type": "execute_result"
    }
   ],
   "source": [
    "df.shape"
   ]
  },
  {
   "cell_type": "code",
   "execution_count": null,
   "metadata": {},
   "outputs": [
    {
     "name": "stderr",
     "output_type": "stream",
     "text": [
      "INFO:prophet:Disabling yearly seasonality. Run prophet with yearly_seasonality=True to override this.\n"
     ]
    }
   ],
   "source": [
    "model = Prophet(\n",
    "    daily_seasonality=False, \n",
    "    seasonality_mode=\"multiplicative\",\n",
    ")\n",
    "metrics = model.fit(df)\n",
    "future = model.make_future_dataframe(periods=12)\n",
    "forecast = model.predict(future)\n",
    "fig1 = model.plot(forecast)"
   ]
  }
 ],
 "metadata": {
  "kernelspec": {
   "display_name": "Python 3",
   "language": "python",
   "name": "python3"
  },
  "language_info": {
   "codemirror_mode": {
    "name": "ipython",
    "version": 3
   },
   "file_extension": ".py",
   "mimetype": "text/x-python",
   "name": "python",
   "nbconvert_exporter": "python",
   "pygments_lexer": "ipython3",
   "version": "3.8.5"
  },
  "metadata": {
   "interpreter": {
    "hash": "d47defed22da33e0314abd5582877298266e5691cc62839a5a7dae1d6cc5ac5c"
   }
  }
 },
 "nbformat": 4,
 "nbformat_minor": 2
}
