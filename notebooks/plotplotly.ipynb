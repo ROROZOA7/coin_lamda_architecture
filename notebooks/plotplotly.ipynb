{
 "cells": [
  {
   "cell_type": "code",
   "execution_count": 2,
   "id": "10164c16-22c1-4aa7-9b35-ae45c76573ae",
   "metadata": {},
   "outputs": [],
   "source": [
    "import redis\n",
    "rc = redis.Redis(host=\"localhost\", decode_responses=True)"
   ]
  },
  {
   "cell_type": "code",
   "execution_count": 16,
   "id": "f1571898-7ecb-44c8-85c7-f1806dee775b",
   "metadata": {},
   "outputs": [
    {
     "name": "stdout",
     "output_type": "stream",
     "text": [
      "[3830.5, 3831.7]\n",
      "[datetime.datetime(2019, 1, 1, 0, 2, tzinfo=datetime.timezone.utc), datetime.datetime(2019, 1, 1, 0, 3, tzinfo=datetime.timezone.utc)]\n"
     ]
    }
   ],
   "source": [
    "from datetime import datetime\n",
    "print(list(map(float, rc.lrange('bitfinex:BTC:USD:opening_price', 0, 1))))\n",
    "print(list(map(lambda x: datetime.strptime(x,\"%Y-%m-%dT%H:%M:%S%z\"), rc.lrange('bitfinex:BTC:USD:time', 0, 1))))"
   ]
  },
  {
   "cell_type": "code",
   "execution_count": null,
   "id": "8d94b3ff-611c-4202-9c5a-1a96180bbd1d",
   "metadata": {},
   "outputs": [],
   "source": [
    "import plotly.express as px\n",
    "\n",
    "fig = px.line(x=rc.lrange('bitfinex:BTC:USD:time', 0, -1),\n",
    "              y=list(map(float, rc.lrange('bitfinex:BTC:USD:opening_price', 0, -1))),\n",
    "              title=\"sample figure\")\n",
    "print(fig)\n",
    "fig.show()"
   ]
  }
 ],
 "metadata": {
  "kernelspec": {
   "display_name": "Python 3",
   "language": "python",
   "name": "python3"
  },
  "language_info": {
   "codemirror_mode": {
    "name": "ipython",
    "version": 3
   },
   "file_extension": ".py",
   "mimetype": "text/x-python",
   "name": "python",
   "nbconvert_exporter": "python",
   "pygments_lexer": "ipython3",
   "version": "3.8.5"
  }
 },
 "nbformat": 4,
 "nbformat_minor": 5
}
